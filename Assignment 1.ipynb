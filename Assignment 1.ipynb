{
 "cells": [
  {
   "cell_type": "code",
   "execution_count": 1,
   "id": "2680653f",
   "metadata": {
    "scrolled": true
   },
   "outputs": [
    {
     "name": "stdout",
     "output_type": "stream",
     "text": [
      "Task 1: Poem Display\n",
      "Twinkle, Twinkle, Little Star,\n",
      "         How I wonder what you are!\n",
      "                 Up above the world so high\n",
      "                 Like a diamond in the sky\n",
      "Twinkle, Twinkle, Little Star,\n",
      "         How I wonder what you are!\n"
     ]
    }
   ],
   "source": [
    "print(\"Task 1: Poem Display\")\n",
    "print(\"Twinkle, Twinkle, Little Star,\")\n",
    "print(\"         How I wonder what you are!\")\n",
    "print(\"                 Up above the world so high\")\n",
    "print(\"                 Like a diamond in the sky\")\n",
    "print(\"Twinkle, Twinkle, Little Star,\")\n",
    "print(\"         How I wonder what you are!\")\n"
   ]
  },
  {
   "cell_type": "code",
   "execution_count": 2,
   "id": "9fdd1ba7",
   "metadata": {
    "scrolled": true
   },
   "outputs": [
    {
     "name": "stdout",
     "output_type": "stream",
     "text": [
      "Task 2 :python version\n",
      "Version is : 3.9.7 (default, Sep 16 2021, 16:59:28) [MSC v.1916 64 bit (AMD64)]\n"
     ]
    }
   ],
   "source": [
    "print(\"Task 2 :python version\")\n",
    "import sys\n",
    "print(\"Version is : \"+ sys.version)"
   ]
  },
  {
   "cell_type": "code",
   "execution_count": 3,
   "id": "4e179514",
   "metadata": {},
   "outputs": [
    {
     "name": "stdout",
     "output_type": "stream",
     "text": [
      "Task 3: Date and Time \n",
      "Current date and time : 01-Jan-2022 01:01:55\n"
     ]
    }
   ],
   "source": [
    "print (\"Task 3: Date and Time \")\n",
    "import datetime\n",
    "current = datetime.datetime.now()\n",
    "print (\"Current date and time : \" + current.strftime(\"%d-%h-%Y %H:%M:%S\"))\n"
   ]
  },
  {
   "cell_type": "code",
   "execution_count": 4,
   "id": "bb2c80c4",
   "metadata": {},
   "outputs": [
    {
     "name": "stdout",
     "output_type": "stream",
     "text": [
      "Task 4: Area of circle\n",
      "Enter the value of radius: 2\n",
      "Area of circle for given Radius is : 12.566370614359172\n"
     ]
    }
   ],
   "source": [
    "print (\"Task 4: Area of circle\" )\n",
    "import math as M\n",
    "Radius=float(input (\"Enter the value of radius: \"))\n",
    "area=M.pi*(Radius*Radius)\n",
    "print(\"Area of circle for given Radius is :\", area)"
   ]
  },
  {
   "cell_type": "code",
   "execution_count": 23,
   "id": "5c71cc93",
   "metadata": {},
   "outputs": [
    {
     "name": "stdout",
     "output_type": "stream",
     "text": [
      "Task 5: Reverse Name display\n",
      "Enter First name: Adil \n",
      "Enter Second name: Akhtar\n",
      "Akhtar Adil \n"
     ]
    }
   ],
   "source": [
    "print (\"Task 5: Reverse Name display\" )\n",
    "Firstname=input(\"Enter First name: \")\n",
    "Secondname=input(\"Enter Second name: \")\n",
    "Reversed_name=(Secondname+\" \"+Firstname)\n",
    "print(str(Reversed_name))"
   ]
  },
  {
   "cell_type": "code",
   "execution_count": 30,
   "id": "ae269586",
   "metadata": {},
   "outputs": [
    {
     "name": "stdout",
     "output_type": "stream",
     "text": [
      "Task6: Addition\n",
      "Enter first number2\n",
      "Enter second number4\n",
      "Sum is:   6.0\n"
     ]
    }
   ],
   "source": [
    "print (\"Task6: Addition\" )\n",
    "a=float(input(\"Enter first number\"))\n",
    "b=float(input(\"Enter second number\"))\n",
    "sum=a+b\n",
    "print (\"Sum is:  \",sum)"
   ]
  }
 ],
 "metadata": {
  "kernelspec": {
   "display_name": "Python 3 (ipykernel)",
   "language": "python",
   "name": "python3"
  },
  "language_info": {
   "codemirror_mode": {
    "name": "ipython",
    "version": 3
   },
   "file_extension": ".py",
   "mimetype": "text/x-python",
   "name": "python",
   "nbconvert_exporter": "python",
   "pygments_lexer": "ipython3",
   "version": "3.9.7"
  }
 },
 "nbformat": 4,
 "nbformat_minor": 5
}
